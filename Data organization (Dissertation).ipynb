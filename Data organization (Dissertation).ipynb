{
 "cells": [
  {
   "cell_type": "markdown",
   "id": "ce01d613-569e-49e1-adb0-e33bd4826b2e",
   "metadata": {},
   "source": [
    "## Data Organization"
   ]
  },
  {
   "cell_type": "markdown",
   "id": "192ea22a-45da-4094-8096-a96590493570",
   "metadata": {},
   "source": [
    "### Creating subdirectories within both the training and validation directories for each gender using the ground truth labels provided in the CSV files."
   ]
  },
  {
   "cell_type": "code",
   "execution_count": 1,
   "id": "cd80e088-4ba7-429b-826b-06359c5767ff",
   "metadata": {},
   "outputs": [],
   "source": [
    "import os\n",
    "import numpy as np\n",
    "import pandas as pd\n",
    "import tensorflow as tf\n",
    "from tensorflow.keras.preprocessing.image import ImageDataGenerator\n",
    "import matplotlib.pyplot as plt\n",
    "from tensorflow.keras.utils import to_categorical\n",
    "from tensorflow.keras.preprocessing.image import load_img, img_to_array\n",
    "from tensorflow.keras.models import Sequential\n",
    "from tensorflow.keras.layers import Conv2D, MaxPooling2D, Flatten, Dense, Dropout\n",
    "from tensorflow.keras.optimizers import Adam\n",
    "from sklearn.metrics import confusion_matrix, ConfusionMatrixDisplay, classification_report\n",
    "import shutil"
   ]
  },
  {
   "cell_type": "code",
   "execution_count": 4,
   "id": "8c32285b-3979-4fdc-9f2b-9cf260a935a9",
   "metadata": {},
   "outputs": [],
   "source": [
    "# Reading in the data\n",
    "\n",
    "train_dir = os.path.join(\"train\")\n",
    "val_dir = os.path.join(\"val\")\n",
    "train_csv = os.path.join(\"fairface_label_train_18th.csv\")\n",
    "val_csv = os.path.join(\"fairface_label_val_18th.csv\")"
   ]
  },
  {
   "cell_type": "code",
   "execution_count": 5,
   "id": "ca2812a5-5c1b-47f4-acd8-57137c70cc92",
   "metadata": {},
   "outputs": [],
   "source": [
    "# Create subdirectories for male and female in training and validation directories\n",
    "subdirs = ['Male', 'Female']\n",
    "for subdir in subdirs:\n",
    "    os.makedirs(os.path.join(train_dir, subdir), exist_ok=True)\n",
    "    os.makedirs(os.path.join(val_dir, subdir), exist_ok=True)"
   ]
  },
  {
   "cell_type": "code",
   "execution_count": 6,
   "id": "12b9ce79-252e-427c-900d-ff49529e3b68",
   "metadata": {},
   "outputs": [],
   "source": [
    "# Function to move images to respective subdirectories\n",
    "def organize_images(df, data_dir):\n",
    "    gender_mapping = {'Male': 'Male', 'Female': 'Female'}\n",
    "    for index, row in df.iterrows():\n",
    "        # Extract the numerical part of the file path\n",
    "        filename = os.path.basename(row['file'])  # e.g., \"1.jpg\"\n",
    "        gender = gender_mapping[row['gender']]\n",
    "        src_path = os.path.join(data_dir, filename)\n",
    "        dst_path = os.path.join(data_dir, gender, filename)\n",
    "        \n",
    "        # Ensure the source file exists before attempting to move it\n",
    "        if os.path.exists(src_path):\n",
    "            shutil.move(src_path, dst_path)\n",
    "        else:\n",
    "            print(f\"Warning: {src_path} does not exist and cannot be moved.\")"
   ]
  },
  {
   "cell_type": "code",
   "execution_count": 7,
   "id": "3a1b75c6-2893-4c70-a58d-2d79d4c813cb",
   "metadata": {},
   "outputs": [],
   "source": [
    "# Load CSV files\n",
    "train_df = pd.read_csv(train_csv)\n",
    "val_df = pd.read_csv(val_csv)"
   ]
  },
  {
   "cell_type": "code",
   "execution_count": 8,
   "id": "8422654f-b763-4d49-8965-101be626c9dc",
   "metadata": {},
   "outputs": [
    {
     "name": "stdout",
     "output_type": "stream",
     "text": [
      "Images have been successfully organized into separate folders.\n"
     ]
    }
   ],
   "source": [
    "# Organize training and validation images\n",
    "organize_images(train_df, train_dir)\n",
    "organize_images(val_df, val_dir)\n",
    "\n",
    "print(\"Images have been successfully organized into separate folders.\")"
   ]
  },
  {
   "cell_type": "code",
   "execution_count": 9,
   "id": "b0f84bf1-9cae-46e9-8149-d5280dd7cac9",
   "metadata": {},
   "outputs": [
    {
     "name": "stdout",
     "output_type": "stream",
     "text": [
      "Found 86744 images belonging to 2 classes.\n",
      "Found 10954 images belonging to 2 classes.\n"
     ]
    }
   ],
   "source": [
    "# Image Data Generators without Augmentation\n",
    "train_datagen = ImageDataGenerator(rescale=1./255)\n",
    "val_datagen = ImageDataGenerator(rescale=1./255)\n",
    "\n",
    "train_generator = train_datagen.flow_from_directory(\n",
    "    train_dir,\n",
    "    target_size=(128, 128),\n",
    "    batch_size=32,\n",
    "    class_mode='binary'\n",
    ")\n",
    "\n",
    "val_generator = val_datagen.flow_from_directory(\n",
    "    val_dir,\n",
    "    target_size=(128, 128),\n",
    "    batch_size=32,\n",
    "    class_mode='binary'\n",
    ")"
   ]
  },
  {
   "cell_type": "code",
   "execution_count": null,
   "id": "67dd0e56-60b0-4019-b016-7dc7e2191488",
   "metadata": {},
   "outputs": [],
   "source": []
  }
 ],
 "metadata": {
  "kernelspec": {
   "display_name": "Python 3 (ipykernel)",
   "language": "python",
   "name": "python3"
  },
  "language_info": {
   "codemirror_mode": {
    "name": "ipython",
    "version": 3
   },
   "file_extension": ".py",
   "mimetype": "text/x-python",
   "name": "python",
   "nbconvert_exporter": "python",
   "pygments_lexer": "ipython3",
   "version": "3.12.0"
  }
 },
 "nbformat": 4,
 "nbformat_minor": 5
}
